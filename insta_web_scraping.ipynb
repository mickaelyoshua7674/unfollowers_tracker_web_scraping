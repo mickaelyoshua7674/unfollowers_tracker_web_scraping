{
 "cells": [
  {
   "cell_type": "code",
   "execution_count": 4,
   "metadata": {},
   "outputs": [],
   "source": [
    "from selenium import webdriver\n",
    "from selenium.webdriver.common.by import By\n",
    "from selenium.webdriver.common.keys import Keys\n",
    "import time"
   ]
  },
  {
   "cell_type": "code",
   "execution_count": 5,
   "metadata": {},
   "outputs": [],
   "source": [
    "import boto3\n",
    "import ast\n",
    "\n",
    "SECRET_INSTA = \"insta_keys\"\n",
    "AWS_REGION = \"sa-east-1\"\n",
    "\n",
    "# Create a Secrets Manager client\n",
    "secrets_manager = boto3.session.Session().client(\n",
    "                service_name='secretsmanager',\n",
    "                region_name=AWS_REGION\n",
    "                )\n",
    "secret_response_insta = secrets_manager.get_secret_value(\n",
    "                        SecretId=SECRET_INSTA\n",
    "                        )\n",
    "INSTA_LOGIN = ast.literal_eval(secret_response_insta[\"SecretString\"])[\"insta_login\"]\n",
    "INSTA_PASSWORD = ast.literal_eval(secret_response_insta[\"SecretString\"])[\"insta_password\"]"
   ]
  },
  {
   "cell_type": "code",
   "execution_count": 6,
   "metadata": {},
   "outputs": [
    {
     "name": "stderr",
     "output_type": "stream",
     "text": [
      "C:\\Users\\micka\\AppData\\Local\\Temp\\ipykernel_4428\\1408152387.py:3: DeprecationWarning: executable_path has been deprecated, please pass in a Service object\n",
      "  driver = webdriver.Chrome(executable_path=\"chromedriver.exe\")#, options=op)\n"
     ]
    },
    {
     "name": "stdout",
     "output_type": "stream",
     "text": [
      "[<selenium.webdriver.remote.webelement.WebElement (session=\"d237a68d7a17ae881bea20d8526043f4\", element=\"35b26628-7dba-4c2b-9eb0-5d83025c5662\")>, <selenium.webdriver.remote.webelement.WebElement (session=\"d237a68d7a17ae881bea20d8526043f4\", element=\"90bcc304-eb46-443e-a764-cedd8f11eff4\")>, <selenium.webdriver.remote.webelement.WebElement (session=\"d237a68d7a17ae881bea20d8526043f4\", element=\"dee67650-0598-426b-bb90-7287d98379bf\")>, <selenium.webdriver.remote.webelement.WebElement (session=\"d237a68d7a17ae881bea20d8526043f4\", element=\"e19388ac-7686-421e-b512-6655853c09e9\")>, <selenium.webdriver.remote.webelement.WebElement (session=\"d237a68d7a17ae881bea20d8526043f4\", element=\"efe1789f-1e8f-4b94-afb1-74989bc160da\")>, <selenium.webdriver.remote.webelement.WebElement (session=\"d237a68d7a17ae881bea20d8526043f4\", element=\"fdce7491-d1c1-46b8-b0c0-1449bb08c706\")>, <selenium.webdriver.remote.webelement.WebElement (session=\"d237a68d7a17ae881bea20d8526043f4\", element=\"233ad7cf-3cc0-4c92-a899-865756d2d740\")>, <selenium.webdriver.remote.webelement.WebElement (session=\"d237a68d7a17ae881bea20d8526043f4\", element=\"13c0c018-3e03-468f-ae9f-0b3a2ddaee2b\")>, <selenium.webdriver.remote.webelement.WebElement (session=\"d237a68d7a17ae881bea20d8526043f4\", element=\"3a3ce8e4-fd84-4ce5-a80a-e633e92e09d8\")>, <selenium.webdriver.remote.webelement.WebElement (session=\"d237a68d7a17ae881bea20d8526043f4\", element=\"47d318e3-3ef7-4486-9203-201243217010\")>, <selenium.webdriver.remote.webelement.WebElement (session=\"d237a68d7a17ae881bea20d8526043f4\", element=\"06180b5f-1530-4089-b202-72af648c9bc8\")>, <selenium.webdriver.remote.webelement.WebElement (session=\"d237a68d7a17ae881bea20d8526043f4\", element=\"3f3addf7-1ee9-4b83-ba17-7d77223914bf\")>]\n",
      "bibitorresl\n",
      "douglasnds_\n",
      "universal_animes013\n",
      "smartsanp\n",
      "_afalricardo\n",
      "rafaela_pontesofc\n",
      "polly_jessica22\n",
      "bela.iyss\n",
      "skybar_jpa\n",
      "skybar_jpaa\n",
      "bm_suplementos_of\n",
      "anny_victoria_ar\n",
      "<class 'list'>\n",
      "<selenium.webdriver.remote.webelement.WebElement (session=\"d237a68d7a17ae881bea20d8526043f4\", element=\"3f3addf7-1ee9-4b83-ba17-7d77223914bf\")>\n"
     ]
    }
   ],
   "source": [
    "# op = webdriver.ChromeOptions()\n",
    "# op.add_argument(\"headless\")\n",
    "driver = webdriver.Chrome(executable_path=\"chromedriver.exe\")#, options=op)\n",
    "driver.get(\"https://www.instagram.com/\")\n",
    "time.sleep(1)\n",
    "\n",
    "login = driver.find_element(By.XPATH, '//*[@id=\"loginForm\"]/div/div[1]/div/label/input')\n",
    "login.send_keys(INSTA_LOGIN)\n",
    "passw = driver.find_element(By.XPATH, '//*[@id=\"loginForm\"]/div/div[2]/div/label/input')\n",
    "passw.send_keys(INSTA_PASSWORD)\n",
    "time.sleep(0.5)\n",
    "passw.send_keys(Keys.ENTER)\n",
    "time.sleep(4)\n",
    "\n",
    "driver.get(f\"https://www.instagram.com/{INSTA_LOGIN}/followers/\")\n",
    "time.sleep(5)\n",
    "\n",
    "followers_obj = driver.find_elements(By.CSS_SELECTOR, \".x9f619.xjbqb8w.x1rg5ohu.x168nmei.x13lgxp2.x5pf9jr.xo71vjh.x1n2onr6.x1plvlek.xryxfnj.x1c4vz4f.x2lah0s.x1q0g3np.xqjyukv.x6s0dn4.x1oa3qoh.x1nhvcw1\")\n",
    "print(followers_obj)\n",
    "followers = []\n",
    "for f in followers_obj:\n",
    "    print(f.text)\n",
    "    followers.append(f)\n",
    "print(type(followers))\n",
    "print(followers[-1])\n",
    "last_follower = followers[-1]\n",
    "driver.execute_script(\"arguments[0].scrollIntoView(true);\", last_follower)\n",
    "\n",
    "# driver.quit()"
   ]
  },
  {
   "cell_type": "code",
   "execution_count": 7,
   "metadata": {},
   "outputs": [
    {
     "data": {
      "text/plain": [
       "('mickaelyoshua', 'L@os76744242')"
      ]
     },
     "execution_count": 7,
     "metadata": {},
     "output_type": "execute_result"
    }
   ],
   "source": [
    "# Use this code snippet in your app.\n",
    "# If you need more information about configurations\n",
    "# or implementing the sample code, visit the AWS docs:\n",
    "# https://aws.amazon.com/developer/language/python/\n",
    "\n",
    "\n",
    "INSTA_LOGIN, INSTA_PASSWORD"
   ]
  },
  {
   "cell_type": "code",
   "execution_count": null,
   "metadata": {},
   "outputs": [],
   "source": []
  },
  {
   "cell_type": "code",
   "execution_count": null,
   "metadata": {},
   "outputs": [],
   "source": []
  }
 ],
 "metadata": {
  "kernelspec": {
   "display_name": "Python 3",
   "language": "python",
   "name": "python3"
  },
  "language_info": {
   "codemirror_mode": {
    "name": "ipython",
    "version": 3
   },
   "file_extension": ".py",
   "mimetype": "text/x-python",
   "name": "python",
   "nbconvert_exporter": "python",
   "pygments_lexer": "ipython3",
   "version": "3.10.10"
  },
  "orig_nbformat": 4
 },
 "nbformat": 4,
 "nbformat_minor": 2
}
