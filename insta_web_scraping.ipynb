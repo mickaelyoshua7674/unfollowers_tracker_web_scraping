{
 "cells": [
  {
   "cell_type": "code",
   "execution_count": null,
   "metadata": {},
   "outputs": [],
   "source": [
    "from selenium import webdriver\n",
    "from selenium.webdriver.common.by import By\n",
    "from selenium.webdriver.common.keys import Keys\n",
    "import time"
   ]
  },
  {
   "cell_type": "code",
   "execution_count": null,
   "metadata": {},
   "outputs": [],
   "source": [
    "import boto3\n",
    "import ast\n",
    "\n",
    "SECRET_INSTA = \"insta_keys\"\n",
    "AWS_REGION = \"sa-east-1\"\n",
    "\n",
    "# Create a Secrets Manager client\n",
    "secrets_manager = boto3.session.Session().client(\n",
    "                service_name='secretsmanager',\n",
    "                region_name=AWS_REGION\n",
    "                )\n",
    "secret_response_insta = secrets_manager.get_secret_value(\n",
    "                        SecretId=SECRET_INSTA\n",
    "                        )\n",
    "INSTA_LOGIN = ast.literal_eval(secret_response_insta[\"SecretString\"])[\"insta_login\"]\n",
    "INSTA_PASSWORD = ast.literal_eval(secret_response_insta[\"SecretString\"])[\"insta_password\"]"
   ]
  },
  {
   "cell_type": "code",
   "execution_count": null,
   "metadata": {},
   "outputs": [],
   "source": [
    "# op = webdriver.ChromeOptions()\n",
    "# op.add_argument(\"headless\")\n",
    "driver = webdriver.Chrome(executable_path=\"chromedriver.exe\")#, options=op)\n",
    "driver.get(\"https://www.instagram.com/\")\n",
    "time.sleep(1)\n",
    "\n",
    "login = driver.find_element(By.XPATH, '//*[@id=\"loginForm\"]/div/div[1]/div/label/input')\n",
    "login.send_keys(INSTA_LOGIN)\n",
    "passw = driver.find_element(By.XPATH, '//*[@id=\"loginForm\"]/div/div[2]/div/label/input')\n",
    "passw.send_keys(INSTA_PASSWORD)\n",
    "time.sleep(0.5)\n",
    "passw.send_keys(Keys.ENTER)\n",
    "time.sleep(4)\n",
    "\n",
    "driver.get(f\"https://www.instagram.com/{INSTA_LOGIN}/followers/\")\n",
    "time.sleep(5)\n",
    "\n",
    "followers_obj = driver.find_elements(By.CSS_SELECTOR, \".x9f619.xjbqb8w.x1rg5ohu.x168nmei.x13lgxp2.x5pf9jr.xo71vjh.x1n2onr6.x1plvlek.xryxfnj.x1c4vz4f.x2lah0s.x1q0g3np.xqjyukv.x6s0dn4.x1oa3qoh.x1nhvcw1\")\n",
    "print(followers_obj)\n",
    "followers = []\n",
    "for f in followers_obj:\n",
    "    print(f.text)\n",
    "    followers.append(f)\n",
    "print(type(followers))\n",
    "print(followers[-1])\n",
    "last_follower = followers[-1]\n",
    "driver.executeScript(\"arguments[0].scrollIntoView(true);\", last_follower)\n",
    "\n",
    "# driver.quit()"
   ]
  },
  {
   "cell_type": "code",
   "execution_count": 16,
   "metadata": {},
   "outputs": [
    {
     "data": {
      "text/plain": [
       "('mickaelyoshua', 'L@os76744242')"
      ]
     },
     "execution_count": 16,
     "metadata": {},
     "output_type": "execute_result"
    }
   ],
   "source": [
    "# Use this code snippet in your app.\n",
    "# If you need more information about configurations\n",
    "# or implementing the sample code, visit the AWS docs:\n",
    "# https://aws.amazon.com/developer/language/python/\n",
    "\n",
    "\n",
    "INSTA_LOGIN, INSTA_PASSWORD"
   ]
  },
  {
   "cell_type": "code",
   "execution_count": 15,
   "metadata": {},
   "outputs": [
    {
     "data": {
      "text/plain": [
       "('mickaelyoshua', 'L@os76744242')"
      ]
     },
     "execution_count": 15,
     "metadata": {},
     "output_type": "execute_result"
    }
   ],
   "source": []
  },
  {
   "cell_type": "code",
   "execution_count": null,
   "metadata": {},
   "outputs": [],
   "source": []
  }
 ],
 "metadata": {
  "kernelspec": {
   "display_name": "Python 3",
   "language": "python",
   "name": "python3"
  },
  "language_info": {
   "codemirror_mode": {
    "name": "ipython",
    "version": 3
   },
   "file_extension": ".py",
   "mimetype": "text/x-python",
   "name": "python",
   "nbconvert_exporter": "python",
   "pygments_lexer": "ipython3",
   "version": "3.10.10"
  },
  "orig_nbformat": 4
 },
 "nbformat": 4,
 "nbformat_minor": 2
}
