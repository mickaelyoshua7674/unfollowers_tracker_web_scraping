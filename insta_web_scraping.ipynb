{
 "cells": [
  {
   "cell_type": "code",
   "execution_count": null,
   "metadata": {},
   "outputs": [],
   "source": [
    "from selenium import webdriver\n",
    "from selenium.webdriver.common.by import By\n",
    "from selenium.webdriver.common.keys import Keys\n",
    "import time"
   ]
  },
  {
   "cell_type": "code",
   "execution_count": null,
   "metadata": {},
   "outputs": [],
   "source": [
    "with open(\"secrets.txt\", \"r\") as f:\n",
    "    USERNAME, PASSWORD = f.read().split(\",\")\n",
    "SCROLL_PAUSE_TIME = 1"
   ]
  },
  {
   "cell_type": "code",
   "execution_count": null,
   "metadata": {},
   "outputs": [],
   "source": [
    "# op = webdriver.ChromeOptions()\n",
    "# op.add_argument(\"headless\")\n",
    "driver = webdriver.Chrome(executable_path=\"chromedriver.exe\")#, options=op)\n",
    "driver.get(\"https://www.instagram.com/\")\n",
    "time.sleep(1)\n",
    "\n",
    "login = driver.find_element(By.XPATH, '//*[@id=\"loginForm\"]/div/div[1]/div/label/input')\n",
    "login.send_keys(USERNAME)\n",
    "passw = driver.find_element(By.XPATH, '//*[@id=\"loginForm\"]/div/div[2]/div/label/input')\n",
    "passw.send_keys(PASSWORD)\n",
    "time.sleep(0.5)\n",
    "passw.send_keys(Keys.ENTER)\n",
    "time.sleep(4)\n",
    "\n",
    "driver.get(f\"https://www.instagram.com/{USERNAME}/followers/\")\n",
    "time.sleep(5)\n",
    "\n",
    "followers_obj = driver.find_elements(By.CSS_SELECTOR, \".x9f619.xjbqb8w.x1rg5ohu.x168nmei.x13lgxp2.x5pf9jr.xo71vjh.x1n2onr6.x1plvlek.xryxfnj.x1c4vz4f.x2lah0s.x1q0g3np.xqjyukv.x6s0dn4.x1oa3qoh.x1nhvcw1\")\n",
    "print(followers_obj)\n",
    "followers = []\n",
    "for f in followers_obj:\n",
    "    print(f.text)\n",
    "    followers.append(f)\n",
    "print(type(followers))\n",
    "print(followers[-1])\n",
    "last_follower = followers[-1]\n",
    "driver.executeScript(\"arguments[0].scrollIntoView(true);\", last_follower)\n",
    "\n",
    "# driver.quit()"
   ]
  },
  {
   "cell_type": "code",
   "execution_count": null,
   "metadata": {},
   "outputs": [],
   "source": [
    "import boto3\n",
    "s3 = boto3.client(\"s3\")\n",
    "s3.list_buckets()"
   ]
  }
 ],
 "metadata": {
  "kernelspec": {
   "display_name": "Python 3",
   "language": "python",
   "name": "python3"
  },
  "language_info": {
   "codemirror_mode": {
    "name": "ipython",
    "version": 3
   },
   "file_extension": ".py",
   "mimetype": "text/x-python",
   "name": "python",
   "nbconvert_exporter": "python",
   "pygments_lexer": "ipython3",
   "version": "3.10.10"
  },
  "orig_nbformat": 4
 },
 "nbformat": 4,
 "nbformat_minor": 2
}
