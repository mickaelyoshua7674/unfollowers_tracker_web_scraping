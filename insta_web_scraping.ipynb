{
 "cells": [
  {
   "cell_type": "code",
   "execution_count": 9,
   "metadata": {},
   "outputs": [],
   "source": [
    "from selenium import webdriver\n",
    "from selenium.webdriver.common.by import By\n",
    "from selenium.webdriver.common.keys import Keys\n",
    "import time"
   ]
  },
  {
   "cell_type": "code",
   "execution_count": 10,
   "metadata": {},
   "outputs": [],
   "source": [
    "with open(\"secrets.txt\", \"r\") as f:\n",
    "    USERNAME, PASSWORD = f.read().split(\",\")"
   ]
  },
  {
   "cell_type": "code",
   "execution_count": 11,
   "metadata": {},
   "outputs": [
    {
     "name": "stderr",
     "output_type": "stream",
     "text": [
      "C:\\Users\\micka\\AppData\\Local\\Temp\\ipykernel_120\\2296013610.py:3: DeprecationWarning: executable_path has been deprecated, please pass in a Service object\n",
      "  driver = webdriver.Chrome(executable_path=\"chromedriver.exe\")#, options=op)\n"
     ]
    },
    {
     "name": "stdout",
     "output_type": "stream",
     "text": [
      "followers: 1,546\n",
      "following: 805\n"
     ]
    }
   ],
   "source": [
    "# op = webdriver.ChromeOptions()\n",
    "# op.add_argument(\"headless\")\n",
    "driver = webdriver.Chrome(executable_path=\"chromedriver.exe\")#, options=op)\n",
    "driver.get(\"https://www.instagram.com/\")\n",
    "time.sleep(1)\n",
    "\n",
    "login = driver.find_element(By.XPATH, '//*[@id=\"loginForm\"]/div/div[1]/div/label/input')\n",
    "login.send_keys(USERNAME)\n",
    "passw = driver.find_element(By.XPATH, '//*[@id=\"loginForm\"]/div/div[2]/div/label/input')\n",
    "passw.send_keys(PASSWORD)\n",
    "time.sleep(0.5)\n",
    "passw.send_keys(Keys.ENTER)\n",
    "time.sleep(4)\n",
    "\n",
    "driver.get(f\"https://www.instagram.com/{USERNAME}/\")\n",
    "time.sleep(3)\n",
    "\n",
    "result = driver.find_elements(By.CSS_SELECTOR, \"._ac2a span\")\n",
    "\n",
    "print(f\"followers: {result[1].text}\\nfollowing: {result[2].text}\")\n",
    "driver.quit()"
   ]
  },
  {
   "cell_type": "code",
   "execution_count": null,
   "metadata": {},
   "outputs": [],
   "source": []
  }
 ],
 "metadata": {
  "kernelspec": {
   "display_name": "Python 3",
   "language": "python",
   "name": "python3"
  },
  "language_info": {
   "codemirror_mode": {
    "name": "ipython",
    "version": 3
   },
   "file_extension": ".py",
   "mimetype": "text/x-python",
   "name": "python",
   "nbconvert_exporter": "python",
   "pygments_lexer": "ipython3",
   "version": "3.10.10"
  },
  "orig_nbformat": 4
 },
 "nbformat": 4,
 "nbformat_minor": 2
}
